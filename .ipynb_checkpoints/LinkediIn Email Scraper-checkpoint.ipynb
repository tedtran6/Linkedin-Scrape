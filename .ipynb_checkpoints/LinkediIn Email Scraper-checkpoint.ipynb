{
 "cells": [
  {
   "cell_type": "code",
   "execution_count": 1,
   "metadata": {},
   "outputs": [],
   "source": [
    "from selenium import webdriver\n",
    "from selenium.webdriver.common.keys import Keys\n",
    "from selenium.webdriver.support.ui import WebDriverWait\n",
    "import selenium.webdriver.support.ui as ui\n",
    "from selenium.webdriver.support import expected_conditions as ec\n",
    "from selenium.webdriver.common.by import By\n",
    "import time"
   ]
  },
  {
   "cell_type": "code",
   "execution_count": 25,
   "metadata": {},
   "outputs": [],
   "source": [
    "class LinkedInBot:\n",
    "    #init class\n",
    "    def __init__(self, username, password):\n",
    "        option = webdriver.ChromeOptions()\n",
    "        #option.add_argument('headless')\n",
    "        \n",
    "        self.username = username;\n",
    "        self.password = password;\n",
    "\n",
    "        self.driver = webdriver.Chrome(r\"C:\\Users\\tedtr\\Anaconda Projects\\chromedriver.exe\", options=option)\n",
    "        \n",
    "    #close the browser\n",
    "    def closebrowser(self):\n",
    "        self.driver.close()\n",
    "        \n",
    "    def waiting(self, xpath):\n",
    "        try:\n",
    "            driver.find_element_by_xpath(xpath)\n",
    "        except:\n",
    "            time.sleep(1)\n",
    "            waiting(xpath)\n",
    "        \n",
    "    #login function\n",
    "    def login(self):\n",
    "        driver = self.driver\n",
    "        driver.get(\"https://www.linkedin.com/login/\")\n",
    "        #driver.get(\"https://www.instagram.com/\")\n",
    "        \n",
    "        time.sleep(2)\n",
    "        \n",
    "        #Username Input\n",
    "        username_elem = driver.find_element_by_xpath(\"//*[@id='username']\")\n",
    "        username_elem.click()\n",
    "        username_elem.send_keys(self.username)\n",
    "        \n",
    "        #Password input\n",
    "        password_elem = driver.find_element_by_xpath(\"//*[@id='password']\")\n",
    "        password_elem.click()\n",
    "        password_elem.send_keys(self.password)\n",
    "        \n",
    "        login_elem = driver.find_element_by_xpath(\"//*[@id='app__container']/main/div/form/div[3]/button\")\n",
    "        login_elem.click()\n",
    "        \n",
    "    #variables:\n",
    "    # title: Title of the persons Job\n",
    "    def searchSpecifics(self, title):\n",
    "        driver = self.driver\n",
    "        driver.get(\"https://www.linkedin.com/search/results/people/?origin=DISCOVER_FROM_SEARCH_HOME\")\n",
    "        \n",
    "        time.sleep(4)\n",
    "        \n",
    "        all_filters = driver.find_element_by_xpath(\"/html/body/div[5]/div[4]/div[3]/div/div[1]/header/div/div/div[2]/button/span\");\n",
    "        \n",
    "        all_filters.click()\n",
    "        \n",
    "        time.sleep(2)\n",
    "        \n",
    "        dallas_elem = driver.find_element_by_xpath(\"//*[@id='locations-facet-values']/fieldset/ol/li[3]/label\")\n",
    "        dallas_elem.click()\n",
    "        \n",
    "        title_elem = driver.find_element_by_xpath(\"//*[@id='search-advanced-title']\")\n",
    "        title_elem.click()\n",
    "        title_elem.send_keys(title)\n",
    "        \n",
    "        #use this as an example of how to properly select an element with selenium\n",
    "        apply_elem = driver.find_element_by_xpath(\"//button[@data-control-name='all_filters_apply']\")\n",
    "        apply_elem.click()\n",
    "        \n",
    "        time.sleep(5)\n",
    "        \n",
    "        #scroll down\n",
    "        driver.execute_script(\"window.scrollTo(0, document.body.scrollHeight);\")\n",
    "        \n",
    "        time.sleep(3)\n",
    "        \n",
    "        #get the list of 10 people on the page\n",
    "        people = driver.find_elements_by_xpath(\"//a[@data-control-name='search_srp_result'][@class='search-result__result-link ember-view']\")\n",
    "        condensedPeople = []\n",
    "        \n",
    "        #people get listed twice, once for their picture and once for their name.\n",
    "        for i in range(len(people)):\n",
    "            if i%2 == 1:\n",
    "                condensedPeople.append(people[i])\n",
    "                \n",
    "        for i in condensedPeople:\n",
    "            print(i.get_attribute(\"href\"))\n",
    "        \n",
    "        next_elem = driver.find_element_by_xpath(\"//button[@aria-label='Next']\")\n",
    "        next_elem.click()\n",
    "        #next_elem = driver.find_element_by_xpath(\"//li-icon[@type='chevron-right-icon']\")\n",
    "        #parent = myElement.find_element_by.xpath(\"..\")\n",
    "        #parent.click()"
   ]
  },
  {
   "cell_type": "code",
   "execution_count": 26,
   "metadata": {},
   "outputs": [
    {
     "name": "stdout",
     "output_type": "stream",
     "text": [
      "https://www.linkedin.com/in/sarahescamillarealtor/\n",
      "https://www.linkedin.com/in/rena-jones-93a2061b/\n",
      "https://www.linkedin.com/in/towandahammonds/\n",
      "https://www.linkedin.com/in/karlabryantbrown/\n",
      "https://www.linkedin.com/in/clint-white-2655aba6/\n",
      "https://www.linkedin.com/in/alfreda-gilbert-077b7124/\n",
      "https://www.linkedin.com/in/chadhulings/\n",
      "https://www.linkedin.com/in/stephanie-kay-carter-62651a31/\n",
      "https://www.linkedin.com/in/richard-choi-b55a8382/\n",
      "https://www.linkedin.com/in/lisa-kaplan-a1565511/\n"
     ]
    },
    {
     "ename": "NameError",
     "evalue": "name 'myElement' is not defined",
     "output_type": "error",
     "traceback": [
      "\u001b[1;31m---------------------------------------------------------------------------\u001b[0m",
      "\u001b[1;31mNameError\u001b[0m                                 Traceback (most recent call last)",
      "\u001b[1;32m<ipython-input-26-cd8611194aad>\u001b[0m in \u001b[0;36m<module>\u001b[1;34m\u001b[0m\n\u001b[0;32m      1\u001b[0m \u001b[0mbot\u001b[0m \u001b[1;33m=\u001b[0m \u001b[0mLinkedInBot\u001b[0m\u001b[1;33m(\u001b[0m\u001b[1;34m\"ted.tran6@gmail.com\"\u001b[0m\u001b[1;33m,\u001b[0m \u001b[1;34m\"tt223926\"\u001b[0m\u001b[1;33m)\u001b[0m\u001b[1;33m\u001b[0m\u001b[1;33m\u001b[0m\u001b[0m\n\u001b[0;32m      2\u001b[0m \u001b[0mbot\u001b[0m\u001b[1;33m.\u001b[0m\u001b[0mlogin\u001b[0m\u001b[1;33m(\u001b[0m\u001b[1;33m)\u001b[0m\u001b[1;33m\u001b[0m\u001b[1;33m\u001b[0m\u001b[0m\n\u001b[1;32m----> 3\u001b[1;33m \u001b[0mbot\u001b[0m\u001b[1;33m.\u001b[0m\u001b[0msearchSpecifics\u001b[0m\u001b[1;33m(\u001b[0m\u001b[1;34m\"Realtor\"\u001b[0m\u001b[1;33m)\u001b[0m\u001b[1;33m\u001b[0m\u001b[1;33m\u001b[0m\u001b[0m\n\u001b[0m",
      "\u001b[1;32m<ipython-input-25-658dd768ddf6>\u001b[0m in \u001b[0;36msearchSpecifics\u001b[1;34m(self, title)\u001b[0m\n\u001b[0;32m     88\u001b[0m         \u001b[0mnext_elem\u001b[0m \u001b[1;33m=\u001b[0m \u001b[0mdriver\u001b[0m\u001b[1;33m.\u001b[0m\u001b[0mfind_element_by_xpath\u001b[0m\u001b[1;33m(\u001b[0m\u001b[1;34m\"//button[@aria-label='Next']\"\u001b[0m\u001b[1;33m)\u001b[0m\u001b[1;33m\u001b[0m\u001b[1;33m\u001b[0m\u001b[0m\n\u001b[0;32m     89\u001b[0m         \u001b[0mnext_elem\u001b[0m \u001b[1;33m=\u001b[0m \u001b[0mdriver\u001b[0m\u001b[1;33m.\u001b[0m\u001b[0mfind_element_by_xpath\u001b[0m\u001b[1;33m(\u001b[0m\u001b[1;34m\"//li-icon[@type='chevron-right-icon']\"\u001b[0m\u001b[1;33m)\u001b[0m\u001b[1;33m\u001b[0m\u001b[1;33m\u001b[0m\u001b[0m\n\u001b[1;32m---> 90\u001b[1;33m         \u001b[0mparent\u001b[0m \u001b[1;33m=\u001b[0m \u001b[0mmyElement\u001b[0m\u001b[1;33m.\u001b[0m\u001b[0mfind_element_by\u001b[0m\u001b[1;33m.\u001b[0m\u001b[0mxpath\u001b[0m\u001b[1;33m(\u001b[0m\u001b[1;34m\"..\"\u001b[0m\u001b[1;33m)\u001b[0m\u001b[1;33m\u001b[0m\u001b[1;33m\u001b[0m\u001b[0m\n\u001b[0m\u001b[0;32m     91\u001b[0m         \u001b[0mparent\u001b[0m\u001b[1;33m.\u001b[0m\u001b[0mclick\u001b[0m\u001b[1;33m(\u001b[0m\u001b[1;33m)\u001b[0m\u001b[1;33m\u001b[0m\u001b[1;33m\u001b[0m\u001b[0m\n",
      "\u001b[1;31mNameError\u001b[0m: name 'myElement' is not defined"
     ]
    }
   ],
   "source": [
    "bot = LinkedInBot(\"ted.tran6@gmail.com\", \"tt223926\")\n",
    "bot.login()\n",
    "bot.searchSpecifics(\"Realtor\")"
   ]
  },
  {
   "cell_type": "code",
   "execution_count": null,
   "metadata": {},
   "outputs": [],
   "source": []
  }
 ],
 "metadata": {
  "kernelspec": {
   "display_name": "Python 3",
   "language": "python",
   "name": "python3"
  },
  "language_info": {
   "codemirror_mode": {
    "name": "ipython",
    "version": 3
   },
   "file_extension": ".py",
   "mimetype": "text/x-python",
   "name": "python",
   "nbconvert_exporter": "python",
   "pygments_lexer": "ipython3",
   "version": "3.7.4"
  }
 },
 "nbformat": 4,
 "nbformat_minor": 2
}
